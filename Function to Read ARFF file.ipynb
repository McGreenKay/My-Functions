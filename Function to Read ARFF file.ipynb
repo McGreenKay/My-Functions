{
 "cells": [
  {
   "cell_type": "code",
   "execution_count": 27,
   "id": "ca8a40f7-4028-4c34-ba93-7006d7960f77",
   "metadata": {},
   "outputs": [],
   "source": [
    "def read_arff(file_name_or_link):\n",
    "    \n",
    "    \"\"\" \n",
    "    The function reads an arff file to dataframe\n",
    "    \n",
    "    Parameters\n",
    "    ----------\n",
    "    file_name_or_link: str\n",
    "    The name or local path to the arff file\n",
    "    \n",
    "    Return\n",
    "    ------\n",
    "    A dataframe of the arff file\n",
    "    \n",
    "    Requirement\n",
    "    -----------\n",
    "    Installation of scipy library\n",
    "    \n",
    "    \"\"\"\n",
    "    # import pandas library as pd\n",
    "    import pandas as pd \n",
    "    \n",
    "    # import arff module from scipy.io\n",
    "    from scipy.io import arff\n",
    "    \n",
    "    # read the arff using loadarff method\n",
    "    arff_file = arff.loadarff(file_name_or_link)\n",
    "    \n",
    "    # read the arff into dataframe\n",
    "    arff_file_df = pd.DataFrame(arff_file)\n",
    "    \n",
    "    return arff_file_df"
   ]
  }
 ],
 "metadata": {
  "kernelspec": {
   "display_name": "Python 3 (ipykernel)",
   "language": "python",
   "name": "python3"
  },
  "language_info": {
   "codemirror_mode": {
    "name": "ipython",
    "version": 3
   },
   "file_extension": ".py",
   "mimetype": "text/x-python",
   "name": "python",
   "nbconvert_exporter": "python",
   "pygments_lexer": "ipython3",
   "version": "3.9.12"
  }
 },
 "nbformat": 4,
 "nbformat_minor": 5
}
